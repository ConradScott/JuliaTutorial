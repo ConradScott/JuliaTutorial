{
 "cells": [
  {
   "cell_type": "markdown",
   "metadata": {},
   "source": [
    "# 1\\. Input"
   ]
  },
  {
   "cell_type": "markdown",
   "metadata": {},
   "source": [
    "Here we explore how to define a data set in an R session. Only two commands are explored. The first is for simple assignment of data, and the second is for reading in a data file. There are many ways to read data into an R session, but we focus on just two to keep it simple."
   ]
  },
  {
   "cell_type": "markdown",
   "metadata": {},
   "source": [
    "## 1.1\\. Assignment"
   ]
  },
  {
   "cell_type": "markdown",
   "metadata": {},
   "source": [
    "The most straight forward way to store a list of numbers is through an assignment using the c command. (c stands for “combine.”) The idea is that a list of numbers is stored under a given name, and the name is used to refer to the data. A list is specified with the c command, and assignment is specified with the “<-” symbols. Another term used to describe the list of numbers is to call it a “vector.”\n",
    "\n",
    "The numbers within the c command are separated by commas. As an example, we can create a new variable, called “bubba” which will contain the numbers 3, 5, 7, and 9:"
   ]
  },
  {
   "cell_type": "code",
   "execution_count": 1,
   "metadata": {
    "collapsed": true
   },
   "outputs": [],
   "source": [
    "bubba <- c(3, 5, 7, 9)"
   ]
  },
  {
   "cell_type": "markdown",
   "metadata": {},
   "source": [
    "When you enter this command you should not see any output except a new command line. The command creates a list of numbers called “bubba.” To see what numbers is included in bubba type “bubba” and press the enter key:"
   ]
  },
  {
   "cell_type": "code",
   "execution_count": 2,
   "metadata": {
    "collapsed": false
   },
   "outputs": [
    {
     "data": {
      "text/html": [
       "<ol class=list-inline>\n",
       "\t<li>3</li>\n",
       "\t<li>5</li>\n",
       "\t<li>7</li>\n",
       "\t<li>9</li>\n",
       "</ol>\n"
      ],
      "text/latex": [
       "\\begin{enumerate*}\n",
       "\\item 3\n",
       "\\item 5\n",
       "\\item 7\n",
       "\\item 9\n",
       "\\end{enumerate*}\n"
      ],
      "text/markdown": [
       "1. 3\n",
       "2. 5\n",
       "3. 7\n",
       "4. 9\n",
       "\n",
       "\n"
      ],
      "text/plain": [
       "[1] 3 5 7 9"
      ]
     },
     "execution_count": 2,
     "metadata": {},
     "output_type": "execute_result"
    }
   ],
   "source": [
    "bubba"
   ]
  },
  {
   "cell_type": "markdown",
   "metadata": {},
   "source": [
    "If you wish to work with one of the numbers you can get access to it using the variable and then square brackets indicating which number:"
   ]
  },
  {
   "cell_type": "code",
   "execution_count": 3,
   "metadata": {
    "collapsed": false
   },
   "outputs": [
    {
     "data": {
      "text/html": [
       "5"
      ],
      "text/latex": [
       "5"
      ],
      "text/markdown": [
       "5"
      ],
      "text/plain": [
       "[1] 5"
      ]
     },
     "execution_count": 3,
     "metadata": {},
     "output_type": "execute_result"
    }
   ],
   "source": [
    "bubba[2]"
   ]
  },
  {
   "cell_type": "code",
   "execution_count": 4,
   "metadata": {
    "collapsed": false
   },
   "outputs": [
    {
     "data": {
      "text/html": [
       "3"
      ],
      "text/latex": [
       "3"
      ],
      "text/markdown": [
       "3"
      ],
      "text/plain": [
       "[1] 3"
      ]
     },
     "execution_count": 4,
     "metadata": {},
     "output_type": "execute_result"
    }
   ],
   "source": [
    "bubba[1]"
   ]
  },
  {
   "cell_type": "code",
   "execution_count": 5,
   "metadata": {
    "collapsed": false
   },
   "outputs": [
    {
     "data": {
      "text/html": [
       "<ol class=list-inline>\n",
       "</ol>\n"
      ],
      "text/latex": [
       "\\begin{enumerate*}\n",
       "\\end{enumerate*}\n"
      ],
      "text/markdown": [
       "\n",
       "\n"
      ],
      "text/plain": [
       "numeric(0)"
      ]
     },
     "execution_count": 5,
     "metadata": {},
     "output_type": "execute_result"
    }
   ],
   "source": [
    "bubba[0]"
   ]
  },
  {
   "cell_type": "code",
   "execution_count": 6,
   "metadata": {
    "collapsed": false
   },
   "outputs": [
    {
     "data": {
      "text/html": [
       "7"
      ],
      "text/latex": [
       "7"
      ],
      "text/markdown": [
       "7"
      ],
      "text/plain": [
       "[1] 7"
      ]
     },
     "execution_count": 6,
     "metadata": {},
     "output_type": "execute_result"
    }
   ],
   "source": [
    "bubba[3]"
   ]
  },
  {
   "cell_type": "code",
   "execution_count": 7,
   "metadata": {
    "collapsed": false
   },
   "outputs": [
    {
     "data": {
      "text/html": [
       "9"
      ],
      "text/latex": [
       "9"
      ],
      "text/markdown": [
       "9"
      ],
      "text/plain": [
       "[1] 9"
      ]
     },
     "execution_count": 7,
     "metadata": {},
     "output_type": "execute_result"
    }
   ],
   "source": [
    "bubba[4]"
   ]
  },
  {
   "cell_type": "markdown",
   "metadata": {},
   "source": [
    "Notice that the first entry is referred to as the number 1 entry, and the zero entry can be used to indicate how the computer will treat the data. You can store strings using both single and double quotes, and you can store real numbers.\n",
    "\n",
    "You now have a list of numbers and are ready to explore. In the chapters that follow we will examine the basic operations in R that will allow you to do some of the analyses required in class."
   ]
  },
  {
   "cell_type": "markdown",
   "metadata": {},
   "source": [
    "## 1.2\\. Reading a CSV file"
   ]
  },
  {
   "cell_type": "markdown",
   "metadata": {},
   "source": [
    "Unfortunately, it is rare to have just a few data points that you do not mind typing in at the prompt. It is much more common to have a lot of data points with complicated relationships. Here we will examine how to read a data set from a file using the read.csv function but first discuss the format of a data file.\n",
    "\n",
    "We assume that the data file is in the format called “comma separated values” (csv). That is, each line contains a row of values which can be numbers or letters, and each value is separated by a comma. We also assume that the very first row contains a list of labels. The idea is that the labels in the top row are used to refer to the different columns of values.\n",
    "\n",
    "First we read a very short, somewhat silly, data file. The data file is called [simple.csv](_static/simple.csv) and has three columns of data and six rows. The three columns are labeled “trial,” “mass,” and “velocity.” We can pretend that each row comes from an observation during one of two trials labeled “A” and “B.” A copy of the data file is shown below and is created in defiance of Werner Heisenberg:"
   ]
  },
  {
   "cell_type": "markdown",
   "metadata": {},
   "source": [
    "<span id=\"index-2\"></span>\n",
    "<table class=\"docutils\" id=\"id1\" border=\"1\"><caption><span class=\"caption-text\">silly.csv</span></caption> <colgroup><col width=\"33%\"> <col width=\"33%\"> <col width=\"33%\"></colgroup> \n",
    "<thead valign=\"bottom\">\n",
    "<tr class=\"row-odd\">\n",
    "<th class=\"head\">trial</th>\n",
    "<th class=\"head\">mass</th>\n",
    "<th class=\"head\">velocity</th>\n",
    "</tr>\n",
    "</thead>\n",
    "<tbody valign=\"top\">\n",
    "<tr class=\"row-even\">\n",
    "<td>A</td>\n",
    "<td>10</td>\n",
    "<td>12</td>\n",
    "</tr>\n",
    "<tr class=\"row-odd\">\n",
    "<td>A</td>\n",
    "<td>11</td>\n",
    "<td>14</td>\n",
    "</tr>\n",
    "<tr class=\"row-even\">\n",
    "<td>B</td>\n",
    "<td>5</td>\n",
    "<td>8</td>\n",
    "</tr>\n",
    "<tr class=\"row-odd\">\n",
    "<td>B</td>\n",
    "<td>6</td>\n",
    "<td>10</td>\n",
    "</tr>\n",
    "<tr class=\"row-even\">\n",
    "<td>A</td>\n",
    "<td>10.5</td>\n",
    "<td>13</td>\n",
    "</tr>\n",
    "<tr class=\"row-odd\">\n",
    "<td>B</td>\n",
    "<td>7</td>\n",
    "<td>11</td>\n",
    "</tr>\n",
    "</tbody>\n",
    "</table>"
   ]
  },
  {
   "cell_type": "markdown",
   "metadata": {},
   "source": [
    "The command to read the data file is _read.csv_. We have to give the command at least one arguments, but we will give three different arguments to indicate how the command can be used in different situations. The first argument is the name of file. The second argument indicates whether or not the first row is a set of labels. The third argument indicates that there is a comma between each number of each line. The following command will read in the data and assign it to a variable called “heisenberg:”"
   ]
  },
  {
   "cell_type": "code",
   "execution_count": 8,
   "metadata": {
    "collapsed": true
   },
   "outputs": [],
   "source": [
    "heisenberg <- read.csv(file=\"simple.csv\",head=TRUE,sep=\",\")"
   ]
  },
  {
   "cell_type": "code",
   "execution_count": 9,
   "metadata": {
    "collapsed": false
   },
   "outputs": [
    {
     "data": {
      "text/html": [
       "<table>\n",
       "<thead><tr><th></th><th scope=col>trial</th><th scope=col>mass</th><th scope=col>velocity</th></tr></thead>\n",
       "<tbody>\n",
       "\t<tr><th scope=row>1</th><td>A</td><td>10</td><td>12</td></tr>\n",
       "\t<tr><th scope=row>2</th><td>A</td><td>11</td><td>14</td></tr>\n",
       "\t<tr><th scope=row>3</th><td>B</td><td>5</td><td>8</td></tr>\n",
       "\t<tr><th scope=row>4</th><td>B</td><td>6</td><td>10</td></tr>\n",
       "\t<tr><th scope=row>5</th><td>A</td><td>10.5</td><td>13</td></tr>\n",
       "\t<tr><th scope=row>6</th><td>B</td><td>7</td><td>11</td></tr>\n",
       "</tbody>\n",
       "</table>\n"
      ],
      "text/latex": [
       "\\begin{tabular}{r|lll}\n",
       "  & trial & mass & velocity\\\\\n",
       "\\hline\n",
       "\t1 & A & 10 & 12\\\\\n",
       "\t2 & A & 11 & 14\\\\\n",
       "\t3 & B & 5 & 8\\\\\n",
       "\t4 & B & 6 & 10\\\\\n",
       "\t5 & A & 10.5 & 13\\\\\n",
       "\t6 & B & 7 & 11\\\\\n",
       "\\end{tabular}\n"
      ],
      "text/plain": [
       "  trial mass velocity\n",
       "1     A 10.0       12\n",
       "2     A 11.0       14\n",
       "3     B  5.0        8\n",
       "4     B  6.0       10\n",
       "5     A 10.5       13\n",
       "6     B  7.0       11"
      ]
     },
     "execution_count": 9,
     "metadata": {},
     "output_type": "execute_result"
    }
   ],
   "source": [
    "heisenberg"
   ]
  },
  {
   "cell_type": "code",
   "execution_count": 10,
   "metadata": {
    "collapsed": false
   },
   "outputs": [
    {
     "data": {
      "text/plain": [
       " trial      mass          velocity    \n",
       " A:3   Min.   : 5.00   Min.   : 8.00  \n",
       " B:3   1st Qu.: 6.25   1st Qu.:10.25  \n",
       "       Median : 8.50   Median :11.50  \n",
       "       Mean   : 8.25   Mean   :11.33  \n",
       "       3rd Qu.:10.38   3rd Qu.:12.75  \n",
       "       Max.   :11.00   Max.   :14.00  "
      ]
     },
     "execution_count": 10,
     "metadata": {},
     "output_type": "execute_result"
    }
   ],
   "source": [
    "summary(heisenberg)"
   ]
  },
  {
   "cell_type": "markdown",
   "metadata": {},
   "source": [
    "(Note that if you are using a Microsoft system the file naming convention is different from what we use here. If you want to use a backslash it needs to be escaped, i.e. use two backslashes together “\\.” Also you can specify what folder to use by clicking on the “File” option in the main menu and choose the option to specify your working directory.)\n",
    "\n",
    "\n",
    "To get more information on the different options available you can use the help command:\n"
   ]
  },
  {
   "cell_type": "code",
   "execution_count": null,
   "metadata": {
    "collapsed": false,
    "scrolled": true
   },
   "outputs": [],
   "source": [
    "help(read.csv)"
   ]
  },
  {
   "cell_type": "markdown",
   "metadata": {},
   "source": [
    "If R is not finding the file you are trying to read then it may be looking in the wrong folder/directory. If you are using the graphical interface you can change the working directory from the file menu. If you are not sure what files are in the current working directory you can use the _dir()_ command to list the files and the _getwd()_ command to determine the current working directory:\n"
   ]
  },
  {
   "cell_type": "code",
   "execution_count": 12,
   "metadata": {
    "collapsed": false
   },
   "outputs": [
    {
     "data": {
      "text/html": [
       "<ol class=list-inline>\n",
       "\t<li>'fixedWidth.dat'</li>\n",
       "\t<li>'Input.ipynb'</li>\n",
       "\t<li>'simple.csv'</li>\n",
       "\t<li>'temp.md'</li>\n",
       "\t<li>'trees91.csv'</li>\n",
       "</ol>\n"
      ],
      "text/latex": [
       "\\begin{enumerate*}\n",
       "\\item 'fixedWidth.dat'\n",
       "\\item 'Input.ipynb'\n",
       "\\item 'simple.csv'\n",
       "\\item 'temp.md'\n",
       "\\item 'trees91.csv'\n",
       "\\end{enumerate*}\n"
      ],
      "text/markdown": [
       "1. 'fixedWidth.dat'\n",
       "2. 'Input.ipynb'\n",
       "3. 'simple.csv'\n",
       "4. 'temp.md'\n",
       "5. 'trees91.csv'\n",
       "\n",
       "\n"
      ],
      "text/plain": [
       "[1] \"fixedWidth.dat\" \"Input.ipynb\"    \"simple.csv\"     \"temp.md\"       \n",
       "[5] \"trees91.csv\"   "
      ]
     },
     "execution_count": 12,
     "metadata": {},
     "output_type": "execute_result"
    }
   ],
   "source": [
    "dir()"
   ]
  },
  {
   "cell_type": "code",
   "execution_count": 13,
   "metadata": {
    "collapsed": false
   },
   "outputs": [
    {
     "data": {
      "text/html": [
       "'/home/scottc/workspace/JuliaTutorial/Input'"
      ],
      "text/latex": [
       "'/home/scottc/workspace/JuliaTutorial/Input'"
      ],
      "text/markdown": [
       "'/home/scottc/workspace/JuliaTutorial/Input'"
      ],
      "text/plain": [
       "[1] \"/home/scottc/workspace/JuliaTutorial/Input\""
      ]
     },
     "execution_count": 13,
     "metadata": {},
     "output_type": "execute_result"
    }
   ],
   "source": [
    "getwd()"
   ]
  },
  {
   "cell_type": "markdown",
   "metadata": {},
   "source": [
    "The variable “heisenberg” contains the three columns of data. Each column is assigned a name based on the header (the first line in the file). You can now access each individual column using a “\\$” to separate the two names:\n"
   ]
  },
  {
   "cell_type": "code",
   "execution_count": 14,
   "metadata": {
    "collapsed": false
   },
   "outputs": [
    {
     "data": {
      "text/html": [
       "<ol class=list-inline>\n",
       "\t<li>A</li>\n",
       "\t<li>A</li>\n",
       "\t<li>B</li>\n",
       "\t<li>B</li>\n",
       "\t<li>A</li>\n",
       "\t<li>B</li>\n",
       "</ol>\n"
      ],
      "text/latex": [
       "\\begin{enumerate*}\n",
       "\\item A\n",
       "\\item A\n",
       "\\item B\n",
       "\\item B\n",
       "\\item A\n",
       "\\item B\n",
       "\\end{enumerate*}\n"
      ],
      "text/markdown": [
       "1. A\n",
       "2. A\n",
       "3. B\n",
       "4. B\n",
       "5. A\n",
       "6. B\n",
       "\n",
       "\n"
      ],
      "text/plain": [
       "[1] A A B B A B\n",
       "Levels: A B"
      ]
     },
     "execution_count": 14,
     "metadata": {},
     "output_type": "execute_result"
    }
   ],
   "source": [
    "heisenberg$trial"
   ]
  },
  {
   "cell_type": "code",
   "execution_count": 15,
   "metadata": {
    "collapsed": false
   },
   "outputs": [
    {
     "data": {
      "text/html": [
       "<ol class=list-inline>\n",
       "\t<li>10</li>\n",
       "\t<li>11</li>\n",
       "\t<li>5</li>\n",
       "\t<li>6</li>\n",
       "\t<li>10.5</li>\n",
       "\t<li>7</li>\n",
       "</ol>\n"
      ],
      "text/latex": [
       "\\begin{enumerate*}\n",
       "\\item 10\n",
       "\\item 11\n",
       "\\item 5\n",
       "\\item 6\n",
       "\\item 10.5\n",
       "\\item 7\n",
       "\\end{enumerate*}\n"
      ],
      "text/markdown": [
       "1. 10\n",
       "2. 11\n",
       "3. 5\n",
       "4. 6\n",
       "5. 10.5\n",
       "6. 7\n",
       "\n",
       "\n"
      ],
      "text/plain": [
       "[1] 10.0 11.0  5.0  6.0 10.5  7.0"
      ]
     },
     "execution_count": 15,
     "metadata": {},
     "output_type": "execute_result"
    }
   ],
   "source": [
    "heisenberg$mass"
   ]
  },
  {
   "cell_type": "code",
   "execution_count": 16,
   "metadata": {
    "collapsed": false
   },
   "outputs": [
    {
     "data": {
      "text/html": [
       "<ol class=list-inline>\n",
       "\t<li>12</li>\n",
       "\t<li>14</li>\n",
       "\t<li>8</li>\n",
       "\t<li>10</li>\n",
       "\t<li>13</li>\n",
       "\t<li>11</li>\n",
       "</ol>\n"
      ],
      "text/latex": [
       "\\begin{enumerate*}\n",
       "\\item 12\n",
       "\\item 14\n",
       "\\item 8\n",
       "\\item 10\n",
       "\\item 13\n",
       "\\item 11\n",
       "\\end{enumerate*}\n"
      ],
      "text/markdown": [
       "1. 12\n",
       "2. 14\n",
       "3. 8\n",
       "4. 10\n",
       "5. 13\n",
       "6. 11\n",
       "\n",
       "\n"
      ],
      "text/plain": [
       "[1] 12 14  8 10 13 11"
      ]
     },
     "execution_count": 16,
     "metadata": {},
     "output_type": "execute_result"
    }
   ],
   "source": [
    "heisenberg$velocity"
   ]
  },
  {
   "cell_type": "markdown",
   "metadata": {},
   "source": [
    "If you are not sure what columns are contained in the variable you can use the names command:\n"
   ]
  },
  {
   "cell_type": "code",
   "execution_count": 17,
   "metadata": {
    "collapsed": false
   },
   "outputs": [
    {
     "data": {
      "text/html": [
       "<ol class=list-inline>\n",
       "\t<li>'trial'</li>\n",
       "\t<li>'mass'</li>\n",
       "\t<li>'velocity'</li>\n",
       "</ol>\n"
      ],
      "text/latex": [
       "\\begin{enumerate*}\n",
       "\\item 'trial'\n",
       "\\item 'mass'\n",
       "\\item 'velocity'\n",
       "\\end{enumerate*}\n"
      ],
      "text/markdown": [
       "1. 'trial'\n",
       "2. 'mass'\n",
       "3. 'velocity'\n",
       "\n",
       "\n"
      ],
      "text/plain": [
       "[1] \"trial\"    \"mass\"     \"velocity\""
      ]
     },
     "execution_count": 17,
     "metadata": {},
     "output_type": "execute_result"
    }
   ],
   "source": [
    "names(heisenberg)"
   ]
  },
  {
   "cell_type": "markdown",
   "metadata": {},
   "source": [
    "We will look at another example which is used throughout this tutorial. we will look at the data found in a spreadsheet located at [http://cdiac.ornl.gov/ftp/ndp061a/trees91.wk1](http://cdiac.ornl.gov/ftp/ndp061a/trees91.wk1) . A description of the data file is located at [http://cdiac.ornl.gov/ftp/ndp061a/ndp061a.txt](http://cdiac.ornl.gov/ftp/ndp061a/ndp061a.txt) . The original data is given in an excel spreadsheet. It has been converted into a csv file, [trees91.csv](_static/trees91.csv) , by deleting the top set of rows and saving it as a “csv” file. This is an option to save within excel. (You should save the file on your computer.) It is a good idea to open this file in a spreadsheet and look at it. This will help you make sense of how R stores the data.\n",
    "\n",
    "\n",
    "The data is used to indicate an estimate of biomass of ponderosa pine in a study performed by Dale W. Johnson, J. Timothy Ball, and Roger F. Walker who are associated with the Biological Sciences Center, Desert Research Institute, P.O. Box 60220, Reno, NV 89506 and the Environmental and Resource Sciences College of Agriculture, University of Nevada, Reno, NV 89512\\. The data is consists of 54 lines, and each line represents an observation. Each observation includes measurements and markers for 28 different measurements of a given tree. For example, the first number in each row is a number, either 1, 2, 3, or 4, which signifies a different level of exposure to carbon dioxide. The sixth number in every row is an estimate of the biomass of the stems of a tree. Note that the very first line in the file is a list of labels used for the different columns of data.\n",
    "\n",
    "\n",
    "The data can be read into a variable called “tree” in using the read.csv command:\n"
   ]
  },
  {
   "cell_type": "code",
   "execution_count": 18,
   "metadata": {
    "collapsed": true
   },
   "outputs": [],
   "source": [
    "tree <- read.csv(file=\"trees91.csv\",header=TRUE,sep=\",\");"
   ]
  },
  {
   "cell_type": "markdown",
   "metadata": {},
   "source": [
    "This will create a new variable called “tree.” If you type in “tree” at the prompt and hit enter, all of the numbers stored in the variable will be printed out. Try this, and you should see that it is difficult to make any sense out of the numbers.\n",
    "\n",
    "\n",
    "There are many different ways to keep track of data in R. When you use the _read.csv_ command R uses a specific kind of variable called a “data frame.” All of the data are stored within the data frame as separate columns. If you are not sure what kind of variable you have then you can use the attributes command. This will list all of the things that R uses to describe the variable:\n"
   ]
  },
  {
   "cell_type": "code",
   "execution_count": 19,
   "metadata": {
    "collapsed": false
   },
   "outputs": [
    {
     "data": {
      "text/html": [
       "<dl>\n",
       "\t<dt>$names</dt>\n",
       "\t\t<dd><ol class=list-inline>\n",
       "\t<li>'C'</li>\n",
       "\t<li>'N'</li>\n",
       "\t<li>'CHBR'</li>\n",
       "\t<li>'REP'</li>\n",
       "\t<li>'LFBM'</li>\n",
       "\t<li>'STBM'</li>\n",
       "\t<li>'RTBM'</li>\n",
       "\t<li>'LFNCC'</li>\n",
       "\t<li>'STNCC'</li>\n",
       "\t<li>'RTNCC'</li>\n",
       "\t<li>'LFBCC'</li>\n",
       "\t<li>'STBCC'</li>\n",
       "\t<li>'RTBCC'</li>\n",
       "\t<li>'LFCACC'</li>\n",
       "\t<li>'STCACC'</li>\n",
       "\t<li>'RTCACC'</li>\n",
       "\t<li>'LFKCC'</li>\n",
       "\t<li>'STKCC'</li>\n",
       "\t<li>'RTKCC'</li>\n",
       "\t<li>'LFMGCC'</li>\n",
       "\t<li>'STMGCC'</li>\n",
       "\t<li>'RTMGCC'</li>\n",
       "\t<li>'LFPCC'</li>\n",
       "\t<li>'STPCC'</li>\n",
       "\t<li>'RTPCC'</li>\n",
       "\t<li>'LFSCC'</li>\n",
       "\t<li>'STSCC'</li>\n",
       "\t<li>'RTSCC'</li>\n",
       "</ol>\n",
       "</dd>\n",
       "\t<dt>$class</dt>\n",
       "\t\t<dd>'data.frame'</dd>\n",
       "\t<dt>$row.names</dt>\n",
       "\t\t<dd><ol class=list-inline>\n",
       "\t<li>1</li>\n",
       "\t<li>2</li>\n",
       "\t<li>3</li>\n",
       "\t<li>4</li>\n",
       "\t<li>5</li>\n",
       "\t<li>6</li>\n",
       "\t<li>7</li>\n",
       "\t<li>8</li>\n",
       "\t<li>9</li>\n",
       "\t<li>10</li>\n",
       "\t<li>11</li>\n",
       "\t<li>12</li>\n",
       "\t<li>13</li>\n",
       "\t<li>14</li>\n",
       "\t<li>15</li>\n",
       "\t<li>16</li>\n",
       "\t<li>17</li>\n",
       "\t<li>18</li>\n",
       "\t<li>19</li>\n",
       "\t<li>20</li>\n",
       "\t<li>21</li>\n",
       "\t<li>22</li>\n",
       "\t<li>23</li>\n",
       "\t<li>24</li>\n",
       "\t<li>25</li>\n",
       "\t<li>26</li>\n",
       "\t<li>27</li>\n",
       "\t<li>28</li>\n",
       "\t<li>29</li>\n",
       "\t<li>30</li>\n",
       "\t<li>31</li>\n",
       "\t<li>32</li>\n",
       "\t<li>33</li>\n",
       "\t<li>34</li>\n",
       "\t<li>35</li>\n",
       "\t<li>36</li>\n",
       "\t<li>37</li>\n",
       "\t<li>38</li>\n",
       "\t<li>39</li>\n",
       "\t<li>40</li>\n",
       "\t<li>41</li>\n",
       "\t<li>42</li>\n",
       "\t<li>43</li>\n",
       "\t<li>44</li>\n",
       "\t<li>45</li>\n",
       "\t<li>46</li>\n",
       "\t<li>47</li>\n",
       "\t<li>48</li>\n",
       "\t<li>49</li>\n",
       "\t<li>50</li>\n",
       "\t<li>51</li>\n",
       "\t<li>52</li>\n",
       "\t<li>53</li>\n",
       "\t<li>54</li>\n",
       "</ol>\n",
       "</dd>\n",
       "</dl>\n"
      ],
      "text/latex": [
       "\\begin{description}\n",
       "\\item[\\$names] \\begin{enumerate*}\n",
       "\\item 'C'\n",
       "\\item 'N'\n",
       "\\item 'CHBR'\n",
       "\\item 'REP'\n",
       "\\item 'LFBM'\n",
       "\\item 'STBM'\n",
       "\\item 'RTBM'\n",
       "\\item 'LFNCC'\n",
       "\\item 'STNCC'\n",
       "\\item 'RTNCC'\n",
       "\\item 'LFBCC'\n",
       "\\item 'STBCC'\n",
       "\\item 'RTBCC'\n",
       "\\item 'LFCACC'\n",
       "\\item 'STCACC'\n",
       "\\item 'RTCACC'\n",
       "\\item 'LFKCC'\n",
       "\\item 'STKCC'\n",
       "\\item 'RTKCC'\n",
       "\\item 'LFMGCC'\n",
       "\\item 'STMGCC'\n",
       "\\item 'RTMGCC'\n",
       "\\item 'LFPCC'\n",
       "\\item 'STPCC'\n",
       "\\item 'RTPCC'\n",
       "\\item 'LFSCC'\n",
       "\\item 'STSCC'\n",
       "\\item 'RTSCC'\n",
       "\\end{enumerate*}\n",
       "\n",
       "\\item[\\$class] 'data.frame'\n",
       "\\item[\\$row.names] \\begin{enumerate*}\n",
       "\\item 1\n",
       "\\item 2\n",
       "\\item 3\n",
       "\\item 4\n",
       "\\item 5\n",
       "\\item 6\n",
       "\\item 7\n",
       "\\item 8\n",
       "\\item 9\n",
       "\\item 10\n",
       "\\item 11\n",
       "\\item 12\n",
       "\\item 13\n",
       "\\item 14\n",
       "\\item 15\n",
       "\\item 16\n",
       "\\item 17\n",
       "\\item 18\n",
       "\\item 19\n",
       "\\item 20\n",
       "\\item 21\n",
       "\\item 22\n",
       "\\item 23\n",
       "\\item 24\n",
       "\\item 25\n",
       "\\item 26\n",
       "\\item 27\n",
       "\\item 28\n",
       "\\item 29\n",
       "\\item 30\n",
       "\\item 31\n",
       "\\item 32\n",
       "\\item 33\n",
       "\\item 34\n",
       "\\item 35\n",
       "\\item 36\n",
       "\\item 37\n",
       "\\item 38\n",
       "\\item 39\n",
       "\\item 40\n",
       "\\item 41\n",
       "\\item 42\n",
       "\\item 43\n",
       "\\item 44\n",
       "\\item 45\n",
       "\\item 46\n",
       "\\item 47\n",
       "\\item 48\n",
       "\\item 49\n",
       "\\item 50\n",
       "\\item 51\n",
       "\\item 52\n",
       "\\item 53\n",
       "\\item 54\n",
       "\\end{enumerate*}\n",
       "\n",
       "\\end{description}\n"
      ],
      "text/markdown": [
       "$names\n",
       ":   1. 'C'\n",
       "2. 'N'\n",
       "3. 'CHBR'\n",
       "4. 'REP'\n",
       "5. 'LFBM'\n",
       "6. 'STBM'\n",
       "7. 'RTBM'\n",
       "8. 'LFNCC'\n",
       "9. 'STNCC'\n",
       "10. 'RTNCC'\n",
       "11. 'LFBCC'\n",
       "12. 'STBCC'\n",
       "13. 'RTBCC'\n",
       "14. 'LFCACC'\n",
       "15. 'STCACC'\n",
       "16. 'RTCACC'\n",
       "17. 'LFKCC'\n",
       "18. 'STKCC'\n",
       "19. 'RTKCC'\n",
       "20. 'LFMGCC'\n",
       "21. 'STMGCC'\n",
       "22. 'RTMGCC'\n",
       "23. 'LFPCC'\n",
       "24. 'STPCC'\n",
       "25. 'RTPCC'\n",
       "26. 'LFSCC'\n",
       "27. 'STSCC'\n",
       "28. 'RTSCC'\n",
       "\n",
       "\n",
       "\n",
       "$class\n",
       ":   'data.frame'\n",
       "$row.names\n",
       ":   1. 1\n",
       "2. 2\n",
       "3. 3\n",
       "4. 4\n",
       "5. 5\n",
       "6. 6\n",
       "7. 7\n",
       "8. 8\n",
       "9. 9\n",
       "10. 10\n",
       "11. 11\n",
       "12. 12\n",
       "13. 13\n",
       "14. 14\n",
       "15. 15\n",
       "16. 16\n",
       "17. 17\n",
       "18. 18\n",
       "19. 19\n",
       "20. 20\n",
       "21. 21\n",
       "22. 22\n",
       "23. 23\n",
       "24. 24\n",
       "25. 25\n",
       "26. 26\n",
       "27. 27\n",
       "28. 28\n",
       "29. 29\n",
       "30. 30\n",
       "31. 31\n",
       "32. 32\n",
       "33. 33\n",
       "34. 34\n",
       "35. 35\n",
       "36. 36\n",
       "37. 37\n",
       "38. 38\n",
       "39. 39\n",
       "40. 40\n",
       "41. 41\n",
       "42. 42\n",
       "43. 43\n",
       "44. 44\n",
       "45. 45\n",
       "46. 46\n",
       "47. 47\n",
       "48. 48\n",
       "49. 49\n",
       "50. 50\n",
       "51. 51\n",
       "52. 52\n",
       "53. 53\n",
       "54. 54\n",
       "\n",
       "\n",
       "\n",
       "\n",
       "\n"
      ],
      "text/plain": [
       "$names\n",
       " [1] \"C\"      \"N\"      \"CHBR\"   \"REP\"    \"LFBM\"   \"STBM\"   \"RTBM\"   \"LFNCC\" \n",
       " [9] \"STNCC\"  \"RTNCC\"  \"LFBCC\"  \"STBCC\"  \"RTBCC\"  \"LFCACC\" \"STCACC\" \"RTCACC\"\n",
       "[17] \"LFKCC\"  \"STKCC\"  \"RTKCC\"  \"LFMGCC\" \"STMGCC\" \"RTMGCC\" \"LFPCC\"  \"STPCC\" \n",
       "[25] \"RTPCC\"  \"LFSCC\"  \"STSCC\"  \"RTSCC\" \n",
       "\n",
       "$class\n",
       "[1] \"data.frame\"\n",
       "\n",
       "$row.names\n",
       " [1]  1  2  3  4  5  6  7  8  9 10 11 12 13 14 15 16 17 18 19 20 21 22 23 24 25\n",
       "[26] 26 27 28 29 30 31 32 33 34 35 36 37 38 39 40 41 42 43 44 45 46 47 48 49 50\n",
       "[51] 51 52 53 54\n"
      ]
     },
     "execution_count": 19,
     "metadata": {},
     "output_type": "execute_result"
    }
   ],
   "source": [
    "attributes(tree)"
   ]
  },
  {
   "cell_type": "markdown",
   "metadata": {},
   "source": [
    "The first thing that R stores is a list of names which refer to each column of the data. For example, the first column is called “C”, the second column is called “N.” Tree is of type data.frame. Finally, the rows are numbered consecutively from 1 to 54\\. Each column has 54 numbers in it.\n",
    "\n",
    "\n",
    "If you know that a variable is a data frame but are not sure what labels are used to refer to the different columns you can use the names command:\n"
   ]
  },
  {
   "cell_type": "code",
   "execution_count": 20,
   "metadata": {
    "collapsed": false
   },
   "outputs": [
    {
     "data": {
      "text/html": [
       "<ol class=list-inline>\n",
       "\t<li>'C'</li>\n",
       "\t<li>'N'</li>\n",
       "\t<li>'CHBR'</li>\n",
       "\t<li>'REP'</li>\n",
       "\t<li>'LFBM'</li>\n",
       "\t<li>'STBM'</li>\n",
       "\t<li>'RTBM'</li>\n",
       "\t<li>'LFNCC'</li>\n",
       "\t<li>'STNCC'</li>\n",
       "\t<li>'RTNCC'</li>\n",
       "\t<li>'LFBCC'</li>\n",
       "\t<li>'STBCC'</li>\n",
       "\t<li>'RTBCC'</li>\n",
       "\t<li>'LFCACC'</li>\n",
       "\t<li>'STCACC'</li>\n",
       "\t<li>'RTCACC'</li>\n",
       "\t<li>'LFKCC'</li>\n",
       "\t<li>'STKCC'</li>\n",
       "\t<li>'RTKCC'</li>\n",
       "\t<li>'LFMGCC'</li>\n",
       "\t<li>'STMGCC'</li>\n",
       "\t<li>'RTMGCC'</li>\n",
       "\t<li>'LFPCC'</li>\n",
       "\t<li>'STPCC'</li>\n",
       "\t<li>'RTPCC'</li>\n",
       "\t<li>'LFSCC'</li>\n",
       "\t<li>'STSCC'</li>\n",
       "\t<li>'RTSCC'</li>\n",
       "</ol>\n"
      ],
      "text/latex": [
       "\\begin{enumerate*}\n",
       "\\item 'C'\n",
       "\\item 'N'\n",
       "\\item 'CHBR'\n",
       "\\item 'REP'\n",
       "\\item 'LFBM'\n",
       "\\item 'STBM'\n",
       "\\item 'RTBM'\n",
       "\\item 'LFNCC'\n",
       "\\item 'STNCC'\n",
       "\\item 'RTNCC'\n",
       "\\item 'LFBCC'\n",
       "\\item 'STBCC'\n",
       "\\item 'RTBCC'\n",
       "\\item 'LFCACC'\n",
       "\\item 'STCACC'\n",
       "\\item 'RTCACC'\n",
       "\\item 'LFKCC'\n",
       "\\item 'STKCC'\n",
       "\\item 'RTKCC'\n",
       "\\item 'LFMGCC'\n",
       "\\item 'STMGCC'\n",
       "\\item 'RTMGCC'\n",
       "\\item 'LFPCC'\n",
       "\\item 'STPCC'\n",
       "\\item 'RTPCC'\n",
       "\\item 'LFSCC'\n",
       "\\item 'STSCC'\n",
       "\\item 'RTSCC'\n",
       "\\end{enumerate*}\n"
      ],
      "text/markdown": [
       "1. 'C'\n",
       "2. 'N'\n",
       "3. 'CHBR'\n",
       "4. 'REP'\n",
       "5. 'LFBM'\n",
       "6. 'STBM'\n",
       "7. 'RTBM'\n",
       "8. 'LFNCC'\n",
       "9. 'STNCC'\n",
       "10. 'RTNCC'\n",
       "11. 'LFBCC'\n",
       "12. 'STBCC'\n",
       "13. 'RTBCC'\n",
       "14. 'LFCACC'\n",
       "15. 'STCACC'\n",
       "16. 'RTCACC'\n",
       "17. 'LFKCC'\n",
       "18. 'STKCC'\n",
       "19. 'RTKCC'\n",
       "20. 'LFMGCC'\n",
       "21. 'STMGCC'\n",
       "22. 'RTMGCC'\n",
       "23. 'LFPCC'\n",
       "24. 'STPCC'\n",
       "25. 'RTPCC'\n",
       "26. 'LFSCC'\n",
       "27. 'STSCC'\n",
       "28. 'RTSCC'\n",
       "\n",
       "\n"
      ],
      "text/plain": [
       " [1] \"C\"      \"N\"      \"CHBR\"   \"REP\"    \"LFBM\"   \"STBM\"   \"RTBM\"   \"LFNCC\" \n",
       " [9] \"STNCC\"  \"RTNCC\"  \"LFBCC\"  \"STBCC\"  \"RTBCC\"  \"LFCACC\" \"STCACC\" \"RTCACC\"\n",
       "[17] \"LFKCC\"  \"STKCC\"  \"RTKCC\"  \"LFMGCC\" \"STMGCC\" \"RTMGCC\" \"LFPCC\"  \"STPCC\" \n",
       "[25] \"RTPCC\"  \"LFSCC\"  \"STSCC\"  \"RTSCC\" "
      ]
     },
     "execution_count": 20,
     "metadata": {},
     "output_type": "execute_result"
    }
   ],
   "source": [
    "names(tree)"
   ]
  },
  {
   "cell_type": "markdown",
   "metadata": {},
   "source": [
    "If you want to work with the data in one of the columns you give the name of the data frame, a “\\$” sign, and the label assigned to the column. For example, the first column in tree can be called using “tree\\$C:”\n"
   ]
  },
  {
   "cell_type": "code",
   "execution_count": 21,
   "metadata": {
    "collapsed": false
   },
   "outputs": [
    {
     "data": {
      "text/html": [
       "<ol class=list-inline>\n",
       "\t<li>1</li>\n",
       "\t<li>1</li>\n",
       "\t<li>1</li>\n",
       "\t<li>1</li>\n",
       "\t<li>1</li>\n",
       "\t<li>1</li>\n",
       "\t<li>1</li>\n",
       "\t<li>1</li>\n",
       "\t<li>2</li>\n",
       "\t<li>2</li>\n",
       "\t<li>2</li>\n",
       "\t<li>2</li>\n",
       "\t<li>2</li>\n",
       "\t<li>2</li>\n",
       "\t<li>2</li>\n",
       "\t<li>2</li>\n",
       "\t<li>2</li>\n",
       "\t<li>2</li>\n",
       "\t<li>2</li>\n",
       "\t<li>2</li>\n",
       "\t<li>2</li>\n",
       "\t<li>2</li>\n",
       "\t<li>2</li>\n",
       "\t<li>2</li>\n",
       "\t<li>2</li>\n",
       "\t<li>2</li>\n",
       "\t<li>2</li>\n",
       "\t<li>2</li>\n",
       "\t<li>2</li>\n",
       "\t<li>2</li>\n",
       "\t<li>2</li>\n",
       "\t<li>3</li>\n",
       "\t<li>3</li>\n",
       "\t<li>3</li>\n",
       "\t<li>3</li>\n",
       "\t<li>3</li>\n",
       "\t<li>3</li>\n",
       "\t<li>3</li>\n",
       "\t<li>3</li>\n",
       "\t<li>3</li>\n",
       "\t<li>3</li>\n",
       "\t<li>4</li>\n",
       "\t<li>4</li>\n",
       "\t<li>4</li>\n",
       "\t<li>4</li>\n",
       "\t<li>4</li>\n",
       "\t<li>4</li>\n",
       "\t<li>4</li>\n",
       "\t<li>4</li>\n",
       "\t<li>4</li>\n",
       "\t<li>4</li>\n",
       "\t<li>4</li>\n",
       "\t<li>4</li>\n",
       "\t<li>4</li>\n",
       "</ol>\n"
      ],
      "text/latex": [
       "\\begin{enumerate*}\n",
       "\\item 1\n",
       "\\item 1\n",
       "\\item 1\n",
       "\\item 1\n",
       "\\item 1\n",
       "\\item 1\n",
       "\\item 1\n",
       "\\item 1\n",
       "\\item 2\n",
       "\\item 2\n",
       "\\item 2\n",
       "\\item 2\n",
       "\\item 2\n",
       "\\item 2\n",
       "\\item 2\n",
       "\\item 2\n",
       "\\item 2\n",
       "\\item 2\n",
       "\\item 2\n",
       "\\item 2\n",
       "\\item 2\n",
       "\\item 2\n",
       "\\item 2\n",
       "\\item 2\n",
       "\\item 2\n",
       "\\item 2\n",
       "\\item 2\n",
       "\\item 2\n",
       "\\item 2\n",
       "\\item 2\n",
       "\\item 2\n",
       "\\item 3\n",
       "\\item 3\n",
       "\\item 3\n",
       "\\item 3\n",
       "\\item 3\n",
       "\\item 3\n",
       "\\item 3\n",
       "\\item 3\n",
       "\\item 3\n",
       "\\item 3\n",
       "\\item 4\n",
       "\\item 4\n",
       "\\item 4\n",
       "\\item 4\n",
       "\\item 4\n",
       "\\item 4\n",
       "\\item 4\n",
       "\\item 4\n",
       "\\item 4\n",
       "\\item 4\n",
       "\\item 4\n",
       "\\item 4\n",
       "\\item 4\n",
       "\\end{enumerate*}\n"
      ],
      "text/markdown": [
       "1. 1\n",
       "2. 1\n",
       "3. 1\n",
       "4. 1\n",
       "5. 1\n",
       "6. 1\n",
       "7. 1\n",
       "8. 1\n",
       "9. 2\n",
       "10. 2\n",
       "11. 2\n",
       "12. 2\n",
       "13. 2\n",
       "14. 2\n",
       "15. 2\n",
       "16. 2\n",
       "17. 2\n",
       "18. 2\n",
       "19. 2\n",
       "20. 2\n",
       "21. 2\n",
       "22. 2\n",
       "23. 2\n",
       "24. 2\n",
       "25. 2\n",
       "26. 2\n",
       "27. 2\n",
       "28. 2\n",
       "29. 2\n",
       "30. 2\n",
       "31. 2\n",
       "32. 3\n",
       "33. 3\n",
       "34. 3\n",
       "35. 3\n",
       "36. 3\n",
       "37. 3\n",
       "38. 3\n",
       "39. 3\n",
       "40. 3\n",
       "41. 3\n",
       "42. 4\n",
       "43. 4\n",
       "44. 4\n",
       "45. 4\n",
       "46. 4\n",
       "47. 4\n",
       "48. 4\n",
       "49. 4\n",
       "50. 4\n",
       "51. 4\n",
       "52. 4\n",
       "53. 4\n",
       "54. 4\n",
       "\n",
       "\n"
      ],
      "text/plain": [
       " [1] 1 1 1 1 1 1 1 1 2 2 2 2 2 2 2 2 2 2 2 2 2 2 2 2 2 2 2 2 2 2 2 3 3 3 3 3 3 3\n",
       "[39] 3 3 3 4 4 4 4 4 4 4 4 4 4 4 4 4"
      ]
     },
     "execution_count": 21,
     "metadata": {},
     "output_type": "execute_result"
    }
   ],
   "source": [
    "tree$C"
   ]
  },
  {
   "cell_type": "markdown",
   "metadata": {},
   "source": [
    "## 1.3\\. Brief Note on Fixed Width Files\n"
   ]
  },
  {
   "cell_type": "markdown",
   "metadata": {},
   "source": [
    "There are many ways to read data using R. We only give two examples, direct assignment and reading csv files. However, another way deserves a brief mention. It is common to come across data that is organized in flat files and delimited at preset locations on each line. This is often called a “fixed width file.”\n",
    "\n",
    "\n",
    "The command to deal with these kind of files is _read.fwf_. Examples of how to use this command are not explored here, but a brief example is given. If you would like more information on how to use this command enter the following command:\n"
   ]
  },
  {
   "cell_type": "code",
   "execution_count": null,
   "metadata": {
    "collapsed": false,
    "scrolled": true
   },
   "outputs": [],
   "source": [
    "help(read.fwf)"
   ]
  },
  {
   "cell_type": "markdown",
   "metadata": {},
   "source": [
    "The _read.fwf_ command requires at least two options. The first is the name of the file and the second is a list of numbers that gives the length of each column in the data file. A negative number in the list indicates that the column should be skipped. Here we give the command to read the data file [fixedWidth.dat](_static/fixedWidth.dat) . In this data file there are three columns. The first colum is 17 characters wide, the second column is 15 characters wide, and the last column is 7 characters wide. In the example below we use the optional _col.names_ option to specify the names of the columns:\n"
   ]
  },
  {
   "cell_type": "code",
   "execution_count": 23,
   "metadata": {
    "collapsed": true
   },
   "outputs": [],
   "source": [
    "a = read.fwf('fixedWidth.dat',widths=c(-17,15,7),col.names=c('temp','offices'))"
   ]
  },
  {
   "cell_type": "code",
   "execution_count": 24,
   "metadata": {
    "collapsed": false
   },
   "outputs": [
    {
     "data": {
      "text/html": [
       "<table>\n",
       "<thead><tr><th></th><th scope=col>temp</th><th scope=col>offices</th></tr></thead>\n",
       "<tbody>\n",
       "\t<tr><th scope=row>1</th><td>17</td><td>35</td></tr>\n",
       "\t<tr><th scope=row>2</th><td>18</td><td>117</td></tr>\n",
       "\t<tr><th scope=row>3</th><td>17.5</td><td>19</td></tr>\n",
       "\t<tr><th scope=row>4</th><td>17.5</td><td>28</td></tr>\n",
       "</tbody>\n",
       "</table>\n"
      ],
      "text/latex": [
       "\\begin{tabular}{r|ll}\n",
       "  & temp & offices\\\\\n",
       "\\hline\n",
       "\t1 & 17 & 35\\\\\n",
       "\t2 & 18 & 117\\\\\n",
       "\t3 & 17.5 & 19\\\\\n",
       "\t4 & 17.5 & 28\\\\\n",
       "\\end{tabular}\n"
      ],
      "text/plain": [
       "  temp offices\n",
       "1 17.0      35\n",
       "2 18.0     117\n",
       "3 17.5      19\n",
       "4 17.5      28"
      ]
     },
     "execution_count": 24,
     "metadata": {},
     "output_type": "execute_result"
    }
   ],
   "source": [
    "a"
   ]
  }
 ],
 "metadata": {
  "kernelspec": {
   "display_name": "R",
   "language": "R",
   "name": "ir"
  },
  "language_info": {
   "codemirror_mode": "r",
   "file_extension": ".r",
   "mimetype": "text/x-r-source",
   "name": "R",
   "pygments_lexer": "r",
   "version": "3.2.3"
  }
 },
 "nbformat": 4,
 "nbformat_minor": 0
}
