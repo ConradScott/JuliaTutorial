{
 "cells": [
  {
   "cell_type": "markdown",
   "metadata": {},
   "source": [
    "# 1\\. Input\n",
    "\n",
    "Here we explore how to define a data set in an R session. Only two commands are explored. The first is for simple assignment of data, and the second is for reading in a data file. There are many ways to read data into an R session, but we focus on just two to keep it simple.\n",
    "\n",
    "## 1.1\\. Assignment\n",
    "\n",
    "The most straight forward way to store a list of numbers is through an assignment using the c command. (c stands for “combine.”) The idea is that a list of numbers is stored under a given name, and the name is used to refer to the data. A list is specified with the c command, and assignment is specified with the “<-” symbols. Another term used to describe the list of numbers is to call it a “vector.”\n",
    "\n",
    "The numbers within the c command are separated by commas. As an example, we can create a new variable, called “bubba” which will contain the numbers 3, 5, 7, and 9:"
   ]
  },
  {
   "cell_type": "code",
   "execution_count": 2,
   "metadata": {
    "collapsed": false
   },
   "outputs": [
    {
     "data": {
      "text/plain": [
       "4-element Array{Int64,1}:\n",
       " 3\n",
       " 5\n",
       " 7\n",
       " 9"
      ]
     },
     "execution_count": 2,
     "metadata": {},
     "output_type": "execute_result"
    }
   ],
   "source": [
    "bubba = [3, 5, 7, 9]"
   ]
  },
  {
   "cell_type": "markdown",
   "metadata": {},
   "source": [
    "When you enter this command you should not see any output except a new command line. The command creates a list of numbers called “bubba.” To see what numbers is included in bubba type “bubba” and press the enter key:"
   ]
  },
  {
   "cell_type": "code",
   "execution_count": 3,
   "metadata": {
    "collapsed": false
   },
   "outputs": [
    {
     "data": {
      "text/plain": [
       "4-element Array{Int64,1}:\n",
       " 3\n",
       " 5\n",
       " 7\n",
       " 9"
      ]
     },
     "execution_count": 3,
     "metadata": {},
     "output_type": "execute_result"
    }
   ],
   "source": [
    "bubba"
   ]
  },
  {
   "cell_type": "markdown",
   "metadata": {},
   "source": [
    "If you wish to work with one of the numbers you can get access to it using the variable and then square brackets indicating which number:"
   ]
  },
  {
   "cell_type": "code",
   "execution_count": 4,
   "metadata": {
    "collapsed": false
   },
   "outputs": [
    {
     "data": {
      "text/plain": [
       "3"
      ]
     },
     "execution_count": 4,
     "metadata": {},
     "output_type": "execute_result"
    }
   ],
   "source": [
    "bubba[1]"
   ]
  },
  {
   "cell_type": "code",
   "execution_count": 5,
   "metadata": {
    "collapsed": false
   },
   "outputs": [
    {
     "data": {
      "text/plain": [
       "5"
      ]
     },
     "execution_count": 5,
     "metadata": {},
     "output_type": "execute_result"
    }
   ],
   "source": [
    "bubba[2]"
   ]
  },
  {
   "cell_type": "code",
   "execution_count": 6,
   "metadata": {
    "collapsed": false
   },
   "outputs": [
    {
     "data": {
      "text/plain": [
       "7"
      ]
     },
     "execution_count": 6,
     "metadata": {},
     "output_type": "execute_result"
    }
   ],
   "source": [
    "bubba[3]"
   ]
  },
  {
   "cell_type": "code",
   "execution_count": 7,
   "metadata": {
    "collapsed": false
   },
   "outputs": [
    {
     "data": {
      "text/plain": [
       "9"
      ]
     },
     "execution_count": 7,
     "metadata": {},
     "output_type": "execute_result"
    }
   ],
   "source": [
    "bubba[4]"
   ]
  },
  {
   "cell_type": "markdown",
   "metadata": {},
   "source": [
    "Notice that the first entry is referred to as the number 1 entry, and the zero entry can be used to indicate how the computer will treat the data. You can store strings using both single and double quotes, and you can store real numbers.\n",
    "\n",
    "You now have a list of numbers and are ready to explore. In the chapters that follow we will examine the basic operations in R that will allow you to do some of the analyses required in class.\n",
    "\n",
    "## 1.2\\. Reading a CSV file\n",
    "\n",
    "Unfortunately, it is rare to have just a few data points that you do not mind typing in at the prompt. It is much more common to have a lot of data points with complicated relationships. Here we will examine how to read a data set from a file using the read.csv function but first discuss the format of a data file.\n",
    "\n",
    "We assume that the data file is in the format called “comma separated values” (csv). That is, each line contains a row of values which can be numbers or letters, and each value is separated by a comma. We also assume that the very first row contains a list of labels. The idea is that the labels in the top row are used to refer to the different columns of values.\n",
    "\n",
    "First we read a very short, somewhat silly, data file. The data file is called [simple.csv](_static/simple.csv) and has three columns of data and six rows. The three columns are labeled “trial,” “mass,” and “velocity.” We can pretend that each row comes from an observation during one of two trials labeled “A” and “B.” A copy of the data file is shown below and is created in defiance of Werner Heisenberg:\n",
    "\n",
    "<span id=\"index-2\"></span>\n",
    "<table class=\"docutils\" id=\"id1\" border=\"1\"><caption><span class=\"caption-text\">silly.csv</span></caption> <colgroup><col width=\"33%\"> <col width=\"33%\"> <col width=\"33%\"></colgroup> \n",
    "<thead valign=\"bottom\">\n",
    "<tr class=\"row-odd\">\n",
    "<th class=\"head\">trial</th>\n",
    "<th class=\"head\">mass</th>\n",
    "<th class=\"head\">velocity</th>\n",
    "</tr>\n",
    "</thead>\n",
    "<tbody valign=\"top\">\n",
    "<tr class=\"row-even\">\n",
    "<td>A</td>\n",
    "<td>10</td>\n",
    "<td>12</td>\n",
    "</tr>\n",
    "<tr class=\"row-odd\">\n",
    "<td>A</td>\n",
    "<td>11</td>\n",
    "<td>14</td>\n",
    "</tr>\n",
    "<tr class=\"row-even\">\n",
    "<td>B</td>\n",
    "<td>5</td>\n",
    "<td>8</td>\n",
    "</tr>\n",
    "<tr class=\"row-odd\">\n",
    "<td>B</td>\n",
    "<td>6</td>\n",
    "<td>10</td>\n",
    "</tr>\n",
    "<tr class=\"row-even\">\n",
    "<td>A</td>\n",
    "<td>10.5</td>\n",
    "<td>13</td>\n",
    "</tr>\n",
    "<tr class=\"row-odd\">\n",
    "<td>B</td>\n",
    "<td>7</td>\n",
    "<td>11</td>\n",
    "</tr>\n",
    "</tbody>\n",
    "</table>\n",
    "\n",
    "The command to read the data file is _read.csv_. We have to give the command at least one arguments, but we will give three different arguments to indicate how the command can be used in different situations. The first argument is the name of file. The second argument indicates whether or not the first row is a set of labels. The third argument indicates that there is a comma between each number of each line. The following command will read in the data and assign it to a variable called “heisenberg:”"
   ]
  },
  {
   "cell_type": "code",
   "execution_count": 8,
   "metadata": {
    "collapsed": false
   },
   "outputs": [],
   "source": [
    "using DataFrames\n",
    "heisenberg = readtable(\"simple.csv\"; header = true, separator = ',');"
   ]
  },
  {
   "cell_type": "code",
   "execution_count": 9,
   "metadata": {
    "collapsed": false
   },
   "outputs": [
    {
     "data": {
      "text/html": [
       "<table class=\"data-frame\"><tr><th></th><th>trial</th><th>mass</th><th>velocity</th></tr><tr><th>1</th><td>A</td><td>10.0</td><td>12</td></tr><tr><th>2</th><td>A</td><td>11.0</td><td>14</td></tr><tr><th>3</th><td>B</td><td>5.0</td><td>8</td></tr><tr><th>4</th><td>B</td><td>6.0</td><td>10</td></tr><tr><th>5</th><td>A</td><td>10.5</td><td>13</td></tr><tr><th>6</th><td>B</td><td>7.0</td><td>11</td></tr></table>"
      ],
      "text/plain": [
       "6x3 DataFrames.DataFrame\n",
       "| Row | trial | mass | velocity |\n",
       "|-----|-------|------|----------|\n",
       "| 1   | \"A\"   | 10.0 | 12       |\n",
       "| 2   | \"A\"   | 11.0 | 14       |\n",
       "| 3   | \"B\"   | 5.0  | 8        |\n",
       "| 4   | \"B\"   | 6.0  | 10       |\n",
       "| 5   | \"A\"   | 10.5 | 13       |\n",
       "| 6   | \"B\"   | 7.0  | 11       |"
      ]
     },
     "execution_count": 9,
     "metadata": {},
     "output_type": "execute_result"
    }
   ],
   "source": [
    "heisenberg"
   ]
  },
  {
   "cell_type": "code",
   "execution_count": 10,
   "metadata": {
    "collapsed": false
   },
   "outputs": [
    {
     "name": "stdout",
     "output_type": "stream",
     "text": [
      "trial\n",
      "Length  6\n",
      "Type    UTF8String\n",
      "NAs     0\n",
      "NA%     0.0%\n",
      "Unique  2\n",
      "\n",
      "mass\n",
      "Min      5.0\n",
      "1st Qu.  6.25\n",
      "Median   8.5\n",
      "Mean     8.25\n",
      "3rd Qu.  10.375\n",
      "Max      11.0\n",
      "NAs      0\n",
      "NA%      0.0%\n",
      "\n",
      "velocity\n",
      "Min      8.0\n",
      "1st Qu.  10.25\n",
      "Median   11.5\n",
      "Mean     11.333333333333334\n",
      "3rd Qu.  12.75\n",
      "Max      14.0\n",
      "NAs      0\n",
      "NA%      0.0%\n",
      "\n"
     ]
    }
   ],
   "source": [
    "describe(heisenberg)"
   ]
  },
  {
   "cell_type": "markdown",
   "metadata": {},
   "source": [
    "(Note that if you are using a Microsoft system the file naming convention is different from what we use here. If you want to use a backslash it needs to be escaped, i.e. use two backslashes together “\\.” Also you can specify what folder to use by clicking on the “File” option in the main menu and choose the option to specify your working directory.)\n",
    "\n",
    "\n",
    "To get more information on the different options available you can use the help command:\n"
   ]
  },
  {
   "cell_type": "code",
   "execution_count": 11,
   "metadata": {
    "collapsed": false,
    "scrolled": true
   },
   "outputs": [
    {
     "name": "stdout",
     "output_type": "stream",
     "text": [
      "search: readtable\n",
      "\n"
     ]
    },
    {
     "data": {
      "text/latex": [
       "No documentation found.\n",
       "\\texttt{DataFrames.readtable} is a \\texttt{Function}.\n",
       "\\begin{verbatim}\n",
       "# 3 methods for generic function \"readtable\":\n",
       "readtable(io::IO) at /home/scottc/.julia/v0.5/DataFrames/src/dataframe/io.jl:825\n",
       "readtable(io::IO, nbytes::Integer) at /home/scottc/.julia/v0.5/DataFrames/src/dataframe/io.jl:825\n",
       "readtable(pathname::AbstractString) at /home/scottc/.julia/v0.5/DataFrames/src/dataframe/io.jl:894\n",
       "\\end{verbatim}\n"
      ],
      "text/markdown": [
       "No documentation found.\n",
       "\n",
       "`DataFrames.readtable` is a `Function`.\n",
       "\n",
       "```julia\n",
       "# 3 methods for generic function \"readtable\":\n",
       "readtable(io::IO) at /home/scottc/.julia/v0.5/DataFrames/src/dataframe/io.jl:825\n",
       "readtable(io::IO, nbytes::Integer) at /home/scottc/.julia/v0.5/DataFrames/src/dataframe/io.jl:825\n",
       "readtable(pathname::AbstractString) at /home/scottc/.julia/v0.5/DataFrames/src/dataframe/io.jl:894\n",
       "```\n"
      ],
      "text/plain": [
       "No documentation found.\n",
       "\n",
       "`DataFrames.readtable` is a `Function`.\n",
       "\n",
       "```julia\n",
       "# 3 methods for generic function \"readtable\":\n",
       "readtable(io::IO) at /home/scottc/.julia/v0.5/DataFrames/src/dataframe/io.jl:825\n",
       "readtable(io::IO, nbytes::Integer) at /home/scottc/.julia/v0.5/DataFrames/src/dataframe/io.jl:825\n",
       "readtable(pathname::AbstractString) at /home/scottc/.julia/v0.5/DataFrames/src/dataframe/io.jl:894\n",
       "```\n"
      ]
     },
     "execution_count": 11,
     "metadata": {},
     "output_type": "execute_result"
    }
   ],
   "source": [
    "?readtable"
   ]
  },
  {
   "cell_type": "markdown",
   "metadata": {},
   "source": [
    "If R is not finding the file you are trying to read then it may be looking in the wrong folder/directory. If you are using the graphical interface you can change the working directory from the file menu. If you are not sure what files are in the current working directory you can use the _dir()_ command to list the files and the _getwd()_ command to determine the current working directory:\n"
   ]
  },
  {
   "cell_type": "code",
   "execution_count": 12,
   "metadata": {
    "collapsed": false
   },
   "outputs": [
    {
     "data": {
      "text/plain": [
       "5-element Array{ByteString,1}:\n",
       " \"fixedWidth.dat\"    \n",
       " \"Input.ipynb\"       \n",
       " \".ipynb_checkpoints\"\n",
       " \"simple.csv\"        \n",
       " \"trees91.csv\"       "
      ]
     },
     "execution_count": 12,
     "metadata": {},
     "output_type": "execute_result"
    }
   ],
   "source": [
    "readdir()"
   ]
  },
  {
   "cell_type": "code",
   "execution_count": 13,
   "metadata": {
    "collapsed": false
   },
   "outputs": [
    {
     "data": {
      "text/plain": [
       "\"/home/scottc/workspace/JuliaTutorial/Input\""
      ]
     },
     "execution_count": 13,
     "metadata": {},
     "output_type": "execute_result"
    }
   ],
   "source": [
    "pwd()"
   ]
  },
  {
   "cell_type": "markdown",
   "metadata": {},
   "source": [
    "The variable “heisenberg” contains the three columns of data. Each column is assigned a name based on the header (the first line in the file). You can now access each individual column using a “\\$” to separate the two names:\n"
   ]
  },
  {
   "cell_type": "code",
   "execution_count": 14,
   "metadata": {
    "collapsed": false
   },
   "outputs": [
    {
     "data": {
      "text/plain": [
       "6-element DataArrays.DataArray{UTF8String,1}:\n",
       " \"A\"\n",
       " \"A\"\n",
       " \"B\"\n",
       " \"B\"\n",
       " \"A\"\n",
       " \"B\""
      ]
     },
     "execution_count": 14,
     "metadata": {},
     "output_type": "execute_result"
    }
   ],
   "source": [
    "heisenberg[:trial]"
   ]
  },
  {
   "cell_type": "code",
   "execution_count": 15,
   "metadata": {
    "collapsed": false
   },
   "outputs": [
    {
     "data": {
      "text/plain": [
       "6-element DataArrays.DataArray{Float64,1}:\n",
       " 10.0\n",
       " 11.0\n",
       "  5.0\n",
       "  6.0\n",
       " 10.5\n",
       "  7.0"
      ]
     },
     "execution_count": 15,
     "metadata": {},
     "output_type": "execute_result"
    }
   ],
   "source": [
    "heisenberg[:mass]"
   ]
  },
  {
   "cell_type": "code",
   "execution_count": 16,
   "metadata": {
    "collapsed": false
   },
   "outputs": [
    {
     "data": {
      "text/plain": [
       "6-element DataArrays.DataArray{Int64,1}:\n",
       " 12\n",
       " 14\n",
       "  8\n",
       " 10\n",
       " 13\n",
       " 11"
      ]
     },
     "execution_count": 16,
     "metadata": {},
     "output_type": "execute_result"
    }
   ],
   "source": [
    "heisenberg[:velocity]"
   ]
  },
  {
   "cell_type": "markdown",
   "metadata": {},
   "source": [
    "If you are not sure what columns are contained in the variable you can use the names command:\n"
   ]
  },
  {
   "cell_type": "code",
   "execution_count": 17,
   "metadata": {
    "collapsed": false
   },
   "outputs": [
    {
     "data": {
      "text/plain": [
       "3-element Array{Symbol,1}:\n",
       " :trial   \n",
       " :mass    \n",
       " :velocity"
      ]
     },
     "execution_count": 17,
     "metadata": {},
     "output_type": "execute_result"
    }
   ],
   "source": [
    "names(heisenberg)"
   ]
  },
  {
   "cell_type": "markdown",
   "metadata": {},
   "source": [
    "We will look at another example which is used throughout this tutorial. we will look at the data found in a spreadsheet located at [http://cdiac.ornl.gov/ftp/ndp061a/trees91.wk1](http://cdiac.ornl.gov/ftp/ndp061a/trees91.wk1). A description of the data file is located at [http://cdiac.ornl.gov/ftp/ndp061a/ndp061a.txt](http://cdiac.ornl.gov/ftp/ndp061a/ndp061a.txt). The original data is given in an excel spreadsheet. It has been converted into a csv file, [trees91.csv](_static/trees91.csv) , by deleting the top set of rows and saving it as a “csv” file. This is an option to save within excel. (You should save the file on your computer.) It is a good idea to open this file in a spreadsheet and look at it. This will help you make sense of how R stores the data.\n",
    "\n",
    "The data is used to indicate an estimate of biomass of ponderosa pine in a study performed by Dale W. Johnson, J. Timothy Ball, and Roger F. Walker who are associated with the Biological Sciences Center, Desert Research Institute, P.O. Box 60220, Reno, NV 89506 and the Environmental and Resource Sciences College of Agriculture, University of Nevada, Reno, NV 89512\\. The data is consists of 54 lines, and each line represents an observation. Each observation includes measurements and markers for 28 different measurements of a given tree. For example, the first number in each row is a number, either 1, 2, 3, or 4, which signifies a different level of exposure to carbon dioxide. The sixth number in every row is an estimate of the biomass of the stems of a tree. Note that the very first line in the file is a list of labels used for the different columns of data.\n",
    "\n",
    "The data can be read into a variable called “tree” in using the read.csv command:"
   ]
  },
  {
   "cell_type": "code",
   "execution_count": 18,
   "metadata": {
    "collapsed": false
   },
   "outputs": [],
   "source": [
    "tree = readtable(\"trees91.csv\"; header = true, separator = ',');"
   ]
  },
  {
   "cell_type": "markdown",
   "metadata": {},
   "source": [
    "This will create a new variable called “tree.” If you type in “tree” at the prompt and hit enter, all of the numbers stored in the variable will be printed out. Try this, and you should see that it is difficult to make any sense out of the numbers.\n",
    "\n",
    "There are many different ways to keep track of data in R. When you use the _read.csv_ command R uses a specific kind of variable called a “data frame.” All of the data are stored within the data frame as separate columns. If you are not sure what kind of variable you have then you can use the attributes command. This will list all of the things that R uses to describe the variable:"
   ]
  },
  {
   "cell_type": "code",
   "execution_count": 19,
   "metadata": {
    "collapsed": false
   },
   "outputs": [
    {
     "name": "stdout",
     "output_type": "stream",
     "text": [
      "C\n",
      "Min      1.0\n",
      "1st Qu.  2.0\n",
      "Median   2.0\n",
      "Mean     2.5185185185185186\n",
      "3rd Qu.  3.0\n",
      "Max      4.0\n",
      "NAs      0\n",
      "NA%      0.0%\n",
      "\n",
      "N\n",
      "Min      1.0\n",
      "1st Qu.  1.0\n",
      "Median   2.0\n",
      "Mean     1.9259259259259258\n",
      "3rd Qu.  3.0\n",
      "Max      3.0\n",
      "NAs      0\n",
      "NA%      0.0%\n",
      "\n",
      "CHBR\n",
      "Length  54\n",
      "Type    UTF8String\n",
      "NAs     0\n",
      "NA%     0.0%\n",
      "Unique  30\n",
      "\n",
      "REP\n",
      "Min      1.0\n",
      "1st Qu.  9.0\n",
      "Median   14.0\n",
      "Mean     13.046511627906977\n",
      "3rd Qu.  20.0\n",
      "Max      20.0\n",
      "NAs      11\n",
      "NA%      20.37%\n",
      "\n",
      "LFBM\n",
      "Min      0.13\n",
      "1st Qu.  0.48\n",
      "Median   0.72\n",
      "Mean     0.7649074074074075\n",
      "3rd Qu.  1.0075\n",
      "Max      1.76\n",
      "NAs      0\n",
      "NA%      0.0%\n",
      "\n",
      "STBM\n",
      "Min      0.03\n",
      "1st Qu.  0.19\n",
      "Median   0.245\n",
      "Mean     0.28833333333333333\n",
      "3rd Qu.  0.38\n",
      "Max      0.72\n",
      "NAs      0\n",
      "NA%      0.0%\n",
      "\n",
      "RTBM\n",
      "Min      0.12\n",
      "1st Qu.  0.28250000000000003\n",
      "Median   0.445\n",
      "Mean     0.4662037037037037\n",
      "3rd Qu.  0.55\n",
      "Max      1.51\n",
      "NAs      0\n",
      "NA%      0.0%\n",
      "\n",
      "LFNCC\n",
      "Min      0.88\n",
      "1st Qu.  1.3125\n",
      "Median   1.55\n",
      "Mean     1.5598148148148145\n",
      "3rd Qu.  1.7875\n",
      "Max      2.76\n",
      "NAs      0\n",
      "NA%      0.0%\n",
      "\n",
      "STNCC\n",
      "Min      0.37\n",
      "1st Qu.  0.64\n",
      "Median   0.785\n",
      "Mean     0.7872222222222222\n",
      "3rd Qu.  0.9349999999999999\n",
      "Max      1.29\n",
      "NAs      0\n",
      "NA%      0.0%\n",
      "\n",
      "RTNCC\n",
      "Min      0.47\n",
      "1st Qu.  0.6\n",
      "Median   0.75\n",
      "Mean     0.7394444444444443\n",
      "3rd Qu.  0.81\n",
      "Max      1.55\n",
      "NAs      0\n",
      "NA%      0.0%\n",
      "\n",
      "LFBCC\n",
      "Min      25.0\n",
      "1st Qu.  34.0\n",
      "Median   37.0\n",
      "Mean     36.96296296296296\n",
      "3rd Qu.  41.0\n",
      "Max      48.0\n",
      "NAs      0\n",
      "NA%      0.0%\n",
      "\n",
      "STBCC\n",
      "Min      14.0\n",
      "1st Qu.  17.0\n",
      "Median   18.0\n",
      "Mean     18.796296296296298\n",
      "3rd Qu.  20.0\n",
      "Max      27.0\n",
      "NAs      0\n",
      "NA%      0.0%\n",
      "\n",
      "RTBCC\n",
      "Min      15.0\n",
      "1st Qu.  19.0\n",
      "Median   20.0\n",
      "Mean     21.425925925925927\n",
      "3rd Qu.  23.0\n",
      "Max      41.0\n",
      "NAs      0\n",
      "NA%      0.0%\n",
      "\n",
      "LFCACC\n",
      "Min      0.21\n",
      "1st Qu.  0.26\n",
      "Median   0.29\n",
      "Mean     0.28685185185185186\n",
      "3rd Qu.  0.31\n",
      "Max      0.36\n",
      "NAs      0\n",
      "NA%      0.0%\n",
      "\n",
      "STCACC\n",
      "Min      0.13\n",
      "1st Qu.  0.16\n",
      "Median   0.17\n",
      "Mean     0.1774074074074074\n",
      "3rd Qu.  0.1875\n",
      "Max      0.24\n",
      "NAs      0\n",
      "NA%      0.0%\n",
      "\n",
      "RTCACC\n",
      "Min      0.11\n",
      "1st Qu.  0.16\n",
      "Median   0.165\n",
      "Mean     0.16537037037037033\n",
      "3rd Qu.  0.17\n",
      "Max      0.24\n",
      "NAs      0\n",
      "NA%      0.0%\n",
      "\n",
      "LFKCC\n",
      "Min      0.65\n",
      "1st Qu.  0.81\n",
      "Median   0.9\n",
      "Mean     0.9052830188679246\n",
      "3rd Qu.  0.99\n",
      "Max      1.18\n",
      "NAs      1\n",
      "NA%      1.85%\n",
      "\n",
      "STKCC\n",
      "Min      0.87\n",
      "1st Qu.  0.94\n",
      "Median   1.0550000000000002\n",
      "Mean     1.105\n",
      "3rd Qu.  1.21\n",
      "Max      1.52\n",
      "NAs      0\n",
      "NA%      0.0%\n",
      "\n",
      "RTKCC\n",
      "Min      0.33\n",
      "1st Qu.  0.4\n",
      "Median   0.475\n",
      "Mean     0.472962962962963\n",
      "3rd Qu.  0.52\n",
      "Max      0.64\n",
      "NAs      0\n",
      "NA%      0.0%\n",
      "\n",
      "LFMGCC\n",
      "Min      0.07\n",
      "1st Qu.  0.1\n",
      "Median   0.12\n",
      "Mean     0.11092592592592594\n",
      "3rd Qu.  0.13\n",
      "Max      0.14\n",
      "NAs      0\n",
      "NA%      0.0%\n",
      "\n",
      "STMGCC\n",
      "Min      0.1\n",
      "1st Qu.  0.11\n",
      "Median   0.13\n",
      "Mean     0.135\n",
      "3rd Qu.  0.15\n",
      "Max      0.19\n",
      "NAs      0\n",
      "NA%      0.0%\n",
      "\n",
      "RTMGCC\n",
      "Min      0.04\n",
      "1st Qu.  0.06\n",
      "Median   0.07\n",
      "Mean     0.06648148148148152\n",
      "3rd Qu.  0.07\n",
      "Max      0.09\n",
      "NAs      0\n",
      "NA%      0.0%\n",
      "\n",
      "LFPCC\n",
      "Min      0.15\n",
      "1st Qu.  0.2\n",
      "Median   0.24\n",
      "Mean     0.23814814814814816\n",
      "3rd Qu.  0.27\n",
      "Max      0.31\n",
      "NAs      0\n",
      "NA%      0.0%\n",
      "\n",
      "STPCC\n",
      "Min      0.15\n",
      "1st Qu.  0.22\n",
      "Median   0.28\n",
      "Mean     0.2707407407407408\n",
      "3rd Qu.  0.3175\n",
      "Max      0.41\n",
      "NAs      0\n",
      "NA%      0.0%\n",
      "\n",
      "RTPCC\n",
      "Min      0.1\n",
      "1st Qu.  0.13\n",
      "Median   0.14500000000000002\n",
      "Mean     0.1464814814814815\n",
      "3rd Qu.  0.16\n",
      "Max      0.21\n",
      "NAs      0\n",
      "NA%      0.0%\n",
      "\n",
      "LFSCC\n",
      "Min      0.09\n",
      "1st Qu.  0.1325\n",
      "Median   0.16\n",
      "Mean     0.1661111111111111\n",
      "3rd Qu.  0.1875\n",
      "Max      0.26\n",
      "NAs      0\n",
      "NA%      0.0%\n",
      "\n",
      "STSCC\n",
      "Min      0.14\n",
      "1st Qu.  0.16\n",
      "Median   0.18\n",
      "Mean     0.18166666666666667\n",
      "3rd Qu.  0.2\n",
      "Max      0.28\n",
      "NAs      0\n",
      "NA%      0.0%\n",
      "\n",
      "RTSCC\n",
      "Min      0.09\n",
      "1st Qu.  0.12\n",
      "Median   0.13\n",
      "Mean     0.12981481481481486\n",
      "3rd Qu.  0.1475\n",
      "Max      0.17\n",
      "NAs      0\n",
      "NA%      0.0%\n",
      "\n"
     ]
    }
   ],
   "source": [
    "describe(tree)"
   ]
  },
  {
   "cell_type": "markdown",
   "metadata": {},
   "source": [
    "The first thing that R stores is a list of names which refer to each column of the data. For example, the first column is called “C”, the second column is called “N.” Tree is of type data.frame. Finally, the rows are numbered consecutively from 1 to 54\\. Each column has 54 numbers in it.\n",
    "\n",
    "\n",
    "If you know that a variable is a data frame but are not sure what labels are used to refer to the different columns you can use the names command:\n"
   ]
  },
  {
   "cell_type": "code",
   "execution_count": 20,
   "metadata": {
    "collapsed": false
   },
   "outputs": [
    {
     "name": "stdout",
     "output_type": "stream",
     "text": [
      "[:C,:N,:CHBR,:REP,:LFBM,:STBM,:RTBM,:LFNCC,:STNCC,:RTNCC,:LFBCC,:STBCC,:RTBCC,:LFCACC,:STCACC,:RTCACC,:LFKCC,:STKCC,:RTKCC,:LFMGCC,:STMGCC,:RTMGCC,:LFPCC,:STPCC,:RTPCC,:LFSCC,:STSCC,:RTSCC]"
     ]
    }
   ],
   "source": [
    "show(names(tree))"
   ]
  },
  {
   "cell_type": "markdown",
   "metadata": {},
   "source": [
    "If you want to work with the data in one of the columns you give the name of the data frame, a “\\$” sign, and the label assigned to the column. For example, the first column in tree can be called using “tree\\$C:”\n"
   ]
  },
  {
   "cell_type": "code",
   "execution_count": 21,
   "metadata": {
    "collapsed": false
   },
   "outputs": [
    {
     "name": "stdout",
     "output_type": "stream",
     "text": [
      "tree[:C] = [1,1,1,1,1,1,1,1,2,2,2,2,2,2,2,2,2,2,2,2,2,2,2,2,2,2,2,2,2,2,2,3,3,3,3,3,3,3,3,3,3,4,4,4,4,4,4,4,4,4,4,4,4,4]\n"
     ]
    }
   ],
   "source": [
    "@show tree[:C];"
   ]
  },
  {
   "cell_type": "markdown",
   "metadata": {},
   "source": [
    "## 1.3\\. Brief Note on Fixed Width Files\n",
    "\n",
    "\n",
    "There are many ways to read data using R. We only give two examples, direct assignment and reading csv files. However, another way deserves a brief mention. It is common to come across data that is organized in flat files and delimited at preset locations on each line. This is often called a “fixed width file.”\n",
    "\n",
    "\n",
    "The command to deal with these kind of files is _read.fwf_. Examples of how to use this command are not explored here, but a brief example is given. If you would like more information on how to use this command enter the following command:\n"
   ]
  },
  {
   "cell_type": "code",
   "execution_count": 22,
   "metadata": {
    "collapsed": false,
    "scrolled": true
   },
   "outputs": [
    {
     "ename": "LoadError",
     "evalue": "LoadError: UndefVarError: help not defined\nwhile loading In[22], in expression starting on line 1",
     "output_type": "error",
     "traceback": [
      "LoadError: UndefVarError: help not defined\nwhile loading In[22], in expression starting on line 1",
      "",
      " [inlined code] from ./essentials.jl:78",
      " in include_string(::ASCIIString, ::ASCIIString) at ./loading.jl:371"
     ]
    }
   ],
   "source": [
    "help(read.fwf)"
   ]
  },
  {
   "cell_type": "markdown",
   "metadata": {},
   "source": [
    "The _read.fwf_ command requires at least two options. The first is the name of the file and the second is a list of numbers that gives the length of each column in the data file. A negative number in the list indicates that the column should be skipped. Here we give the command to read the data file [fixedWidth.dat](_static/fixedWidth.dat) . In this data file there are three columns. The first colum is 17 characters wide, the second column is 15 characters wide, and the last column is 7 characters wide. In the example below we use the optional _col.names_ option to specify the names of the columns:\n"
   ]
  },
  {
   "cell_type": "code",
   "execution_count": 23,
   "metadata": {
    "collapsed": false
   },
   "outputs": [
    {
     "ename": "LoadError",
     "evalue": "LoadError: UndefVarError: skip_white not defined\nwhile loading In[23], in expression starting on line 2",
     "output_type": "error",
     "traceback": [
      "LoadError: UndefVarError: skip_white not defined\nwhile loading In[23], in expression starting on line 2",
      ""
     ]
    }
   ],
   "source": [
    "# a = read.fwf('fixedWidth.dat',widths=c(-17,15,7),col.names=c('temp','offices'))\n",
    "a = readtable(\"fixedWidth.dat\"; header = false, separator = ' ', names = [:name, :temp, :offices])"
   ]
  },
  {
   "cell_type": "code",
   "execution_count": 24,
   "metadata": {
    "collapsed": false,
    "scrolled": false
   },
   "outputs": [
    {
     "ename": "LoadError",
     "evalue": "LoadError: UndefVarError: a not defined\nwhile loading In[24], in expression starting on line 1",
     "output_type": "error",
     "traceback": [
      "LoadError: UndefVarError: a not defined\nwhile loading In[24], in expression starting on line 1",
      "",
      " [inlined code] from ./essentials.jl:78",
      " in include_string(::ASCIIString, ::ASCIIString) at ./loading.jl:371"
     ]
    }
   ],
   "source": [
    "a"
   ]
  }
 ],
 "metadata": {
  "kernelspec": {
   "display_name": "Julia 0.5.0-dev",
   "language": "julia",
   "name": "julia-0.5"
  },
  "language_info": {
   "file_extension": ".jl",
   "mimetype": "application/julia",
   "name": "julia",
   "version": "0.5.0"
  }
 },
 "nbformat": 4,
 "nbformat_minor": 0
}
